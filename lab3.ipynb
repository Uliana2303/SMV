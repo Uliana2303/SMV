{
 "cells": [
  {
   "cell_type": "markdown",
   "metadata": {},
   "source": [
    "# Лабораторная работа №3\n",
    "\n",
    "выполнила: Рыжкова Ульяна БВТ2001"
   ]
  },
  {
   "cell_type": "code",
   "execution_count": 1,
   "metadata": {},
   "outputs": [],
   "source": [
    "import torch\n",
    "import torch.nn.functional as F"
   ]
  },
  {
   "cell_type": "code",
   "execution_count": 25,
   "metadata": {},
   "outputs": [],
   "source": [
    "def myconv_transpose2d(inputs, weight, bias=None, stride=1 , padding=0, output_padding=0, groups=1, dilation=1):\n",
    "    # Get the dimensions of the input and kernel\n",
    "    batch_size, in_channels, in_height, in_width = inputs.shape\n",
    "    _, out_channels, kernel_height, kernel_width = weight.shape\n",
    "\n",
    "    # Compute the output dimensions\n",
    "    out_height = (in_height - 1) * stride - 2 * padding + dilation * (kernel_height - 1) + output_padding +1 \n",
    "    out_width = (in_width - 1) * stride - 2 * padding + dilation * (kernel_width - 1) + output_padding + 1\n",
    "\n",
    "    # Create the output tensor\n",
    "    output = torch.zeros((batch_size, out_channels, out_height, out_width))\n",
    "\n",
    "    # Apply the 2D transposed convolution\n",
    "    for b in range(batch_size):\n",
    "        for oc in range(out_channels):\n",
    "            for oh in range(out_height):\n",
    "                for ow in range(out_width):\n",
    "                    for ic in range(in_channels):\n",
    "                        for kh in range(kernel_height):\n",
    "                            for kw in range(kernel_width):\n",
    "                                i = oh + padding - kh * dilation\n",
    "                                j = ow + padding - kw * dilation\n",
    "                                if i >= 0 and j >= 0 and i < in_height * stride and j < in_width * stride and (i % stride == 0) and (j % stride == 0):\n",
    "                                    i //= stride\n",
    "                                    j //= stride\n",
    "                                    output[b, oc, oh, ow] += inputs[b, ic, i, j] * weight[oc, ic, kh, kw]\n",
    "\n",
    "            #bias\n",
    "            if bias is not None:\n",
    "                output[b, oc, :, :] += bias[oc]\n",
    "\n",
    "    return output\n",
    "\n",
    "\n",
    "batch_size, in_channels, height, width = 1, 1, 4, 4\n",
    "out_channels = 1\n",
    "kernel_size = 3\n",
    "\n",
    "input_data = torch.randn(batch_size, in_channels, height, width)\n",
    "weight_data = torch.randn(in_channels, out_channels, kernel_size, kernel_size)\n",
    "bias_data = torch.randn(out_channels)\n",
    "\n",
    "# Use function\n",
    "output = myconv_transpose2d(input_data, weight_data, bias_data, stride=1, padding=1, dilation=1, groups=1)"
   ]
  },
  {
   "cell_type": "code",
   "execution_count": 3,
   "metadata": {},
   "outputs": [],
   "source": [
    "import ipytest\n",
    "ipytest.autoconfig()"
   ]
  },
  {
   "cell_type": "code",
   "execution_count": 40,
   "metadata": {},
   "outputs": [
    {
     "name": "stdout",
     "output_type": "stream",
     "text": [
      "\u001b[32m.\u001b[0m\u001b[32m.\u001b[0m\u001b[32m.\u001b[0m\u001b[32m.\u001b[0m\u001b[32m.\u001b[0m\u001b[32m                                                                                        [100%]\u001b[0m\n",
      "\u001b[32m\u001b[32m\u001b[1m5 passed\u001b[0m\u001b[32m in 0.07s\u001b[0m\u001b[0m\n"
     ]
    }
   ],
   "source": [
    "%%ipytest\n",
    "\n",
    "\n",
    "def test_1():\n",
    "    batch_size, in_channels, height, width = 1, 1, 3, 3\n",
    "    out_channels = 1\n",
    "    kernel_size = 3\n",
    "\n",
    "    input_data = torch.randn(batch_size, in_channels, height, width)\n",
    "    weight_data = torch.randn(in_channels, out_channels, kernel_size, kernel_size)        \n",
    "\n",
    "\n",
    "    conv = F.conv_transpose2d(input_data, weight_data, bias=None, stride=1, padding=1)\n",
    "    my_conv = myconv_transpose2d(input_data, weight_data, bias=None, stride=1, padding=1)\n",
    "    assert torch.allclose(conv, my_conv)\n",
    "\n",
    "def test_2():\n",
    "    batch_size, in_channels, height, width = 1, 1, 3, 3\n",
    "    out_channels = 1\n",
    "    kernel_size = 3\n",
    "\n",
    "    input_data = torch.randn(batch_size, in_channels, height, width)\n",
    "    weight_data = torch.randn(in_channels, out_channels, kernel_size, kernel_size)        \n",
    "    bias_data = torch.randn(out_channels)\n",
    "\n",
    "    conv = F.conv_transpose2d(input_data, weight_data, bias_data, stride=1, padding=1)\n",
    "    my_conv = myconv_transpose2d(input_data, weight_data, bias_data, stride=1, padding=1)\n",
    "    assert torch.allclose(conv, my_conv)\n",
    "\n",
    "\n",
    "def test_3():\n",
    "    batch_size, in_channels, height, width = 1, 1, 3, 3\n",
    "    out_channels = 1\n",
    "    kernel_size = 3\n",
    "\n",
    "    input_data = torch.randn(batch_size, in_channels, height, width)\n",
    "    weight_data = torch.randn(in_channels, out_channels, kernel_size, kernel_size)        \n",
    "    bias_data = torch.randn(out_channels)\n",
    "\n",
    "    my_conv = myconv_transpose2d(input_data, weight_data, bias_data, stride=2, padding=0)\n",
    "    conv = F.conv_transpose2d(input_data, weight_data, bias_data, stride=2, padding=0)\n",
    "    assert torch.allclose(conv, my_conv)\n",
    "\n",
    "def test_4():\n",
    "    batch_size, in_channels, height, width = 1, 1, 3, 3\n",
    "    out_channels = 1\n",
    "    kernel_size = 3\n",
    "    dilation = 2\n",
    "\n",
    "    input_data = torch.randn(batch_size, in_channels, height+dilation, width+dilation)\n",
    "    weight_data = torch.randn(in_channels, out_channels, kernel_size, kernel_size)        \n",
    "    bias_data = torch.randn(out_channels)\n",
    "\n",
    "    my_conv = myconv_transpose2d(input_data, weight_data, bias_data, stride=1, padding=0, dilation=dilation)\n",
    "    conv = F.conv_transpose2d(input_data, weight_data, bias_data, stride=1, padding=0, dilation=dilation)\n",
    "    assert torch.allclose(conv, my_conv)\n",
    "\n",
    "def test_5():\n",
    "    batch_size, in_channels, height, width = 1, 1, 3, 3\n",
    "    out_channels = 1\n",
    "    kernel_size = 3\n",
    "\n",
    "    input_data = torch.randn(batch_size, in_channels, height, width)\n",
    "    weight_data = torch.randn(in_channels, out_channels, kernel_size, kernel_size)        \n",
    "    bias_data = torch.randn(out_channels)\n",
    "\n",
    "    my_conv = myconv_transpose2d(input_data, weight_data, bias_data, stride=2, padding=0, output_padding=1)\n",
    "    conv = F.conv_transpose2d(input_data, weight_data, bias_data, stride=2, padding=0, output_padding=1)\n",
    "    assert torch.allclose(conv, my_conv)"
   ]
  }
 ],
 "metadata": {
  "kernelspec": {
   "display_name": "Python 3",
   "language": "python",
   "name": "python3"
  },
  "language_info": {
   "codemirror_mode": {
    "name": "ipython",
    "version": 3
   },
   "file_extension": ".py",
   "mimetype": "text/x-python",
   "name": "python",
   "nbconvert_exporter": "python",
   "pygments_lexer": "ipython3",
   "version": "3.10.7"
  }
 },
 "nbformat": 4,
 "nbformat_minor": 2
}
