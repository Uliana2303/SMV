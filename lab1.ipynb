{
 "cells": [
  {
   "cell_type": "markdown",
   "metadata": {},
   "source": [
    "# Лабораторная работа №1\n",
    "\n",
    "выполнила: Рыжкова Ульяна БВТ2001"
   ]
  },
  {
   "cell_type": "code",
   "execution_count": 13,
   "metadata": {},
   "outputs": [],
   "source": [
    "import numpy as np\n",
    "import torch\n",
    "import torch.nn.functional as F\n",
    "\n",
    "def myconv2d(inputs, weight, bias=None, stride=1 , padding=0,  groups=1, dilation=1):\n",
    "    # Get the dimensions of the input and kernel\n",
    "    batch_size, in_channels, in_height, in_width = inputs.shape\n",
    "    out_channels, _, kernel_height, kernel_width = weight.shape\n",
    "\n",
    "    # Apply dilation to the kernel\n",
    "    dilated_kernel = np.zeros((out_channels, in_channels, (kernel_height - 1) * dilation + 1, (kernel_width - 1) * dilation + 1))\n",
    "    dilated_kernel[:, :, ::dilation, ::dilation] = weight\n",
    "\n",
    "    #Add padding\n",
    "    if padding > 0:\n",
    "        inputs = F.pad(inputs, (padding, padding, padding, padding))\n",
    "\n",
    "    # Compute the output dimensions\n",
    "    out_height = (in_height + 2 * padding - dilated_kernel.shape[2]) // stride + 1\n",
    "    out_width = (in_width + 2 * padding - dilated_kernel.shape[3]) // stride + 1\n",
    "\n",
    "    # Create the output tensor\n",
    "    output = torch.zeros((batch_size, out_channels, out_height, out_width))\n",
    "\n",
    "    #2D convolution for each item in the batch\n",
    "    for b in range(batch_size):\n",
    "        for oc in range(out_channels):\n",
    "            for oh in range(out_height):\n",
    "                for ow in range(out_width):\n",
    "                    if bias is not None:\n",
    "                        output[b, oc, oh, ow] = (inputs[b, :, oh*stride:oh*stride+dilated_kernel.shape[2], ow*stride:ow*stride+dilated_kernel.shape[3]] * dilated_kernel[oc]).sum() + bias[oc]\n",
    "                    else:\n",
    "                        output[b, oc, oh, ow] = (inputs[b, :, oh*stride:oh*stride+dilated_kernel.shape[2], ow*stride:ow*stride+dilated_kernel.shape[3]] * dilated_kernel[oc]).sum()\n",
    "\n",
    "    return output\n",
    "\n",
    "\n",
    "# Generate inputs\n",
    "batch_size, in_channels, height, width = 1, 1, 4, 4\n",
    "out_channels = 1\n",
    "kernel_size = 3\n",
    "\n",
    "input_data = torch.randn(batch_size, in_channels, height, width)\n",
    "weight_data = torch.randn(out_channels, in_channels, kernel_size, kernel_size)\n",
    "bias_data = torch.randn(out_channels)\n",
    "\n",
    "# Use function\n",
    "output = myconv2d(input_data, weight_data, bias_data, stride=1, padding=1, dilation=1, groups=1)\n"
   ]
  },
  {
   "cell_type": "code",
   "execution_count": 14,
   "metadata": {},
   "outputs": [],
   "source": [
    "import ipytest\n",
    "ipytest.autoconfig()"
   ]
  },
  {
   "cell_type": "code",
   "execution_count": 21,
   "metadata": {},
   "outputs": [
    {
     "name": "stdout",
     "output_type": "stream",
     "text": [
      "\u001b[32m.\u001b[0m\u001b[32m.\u001b[0m\u001b[32m.\u001b[0m\u001b[32m.\u001b[0m\u001b[32m                                                                                         [100%]\u001b[0m\n",
      "\u001b[32m\u001b[32m\u001b[1m4 passed\u001b[0m\u001b[32m in 0.13s\u001b[0m\u001b[0m\n"
     ]
    }
   ],
   "source": [
    "%%ipytest\n",
    "\n",
    "\n",
    "def test_1():\n",
    "    batch_size, in_channels, height, width = 2, 3, 4, 4\n",
    "    out_channels = 2\n",
    "    kernel_size = 3\n",
    "\n",
    "    input_data = torch.randn(batch_size, in_channels, height, width)\n",
    "    weight_data = torch.randn(out_channels, in_channels, kernel_size, kernel_size)        \n",
    "\n",
    "\n",
    "    conv = F.conv2d(input_data, weight_data, bias=None, stride=1, padding=0)\n",
    "    my_conv = myconv2d(input_data, weight_data, bias=None, stride=1, padding=0)\n",
    "    assert torch.allclose(conv, my_conv)\n",
    "\n",
    "def test_2():\n",
    "    batch_size, in_channels, height, width = 2, 3, 4, 4\n",
    "    out_channels = 2\n",
    "    kernel_size = 3\n",
    "\n",
    "    input_data = torch.randn(batch_size, in_channels, height, width)\n",
    "    weight_data = torch.randn(out_channels, in_channels, kernel_size, kernel_size)        \n",
    "    bias_data = torch.randn(out_channels)\n",
    "\n",
    "    conv = F.conv2d(input_data, weight_data, bias_data, stride=1, padding=3)\n",
    "    my_conv = myconv2d(input_data, weight_data, bias_data, stride=1, padding=3)\n",
    "    assert torch.allclose(conv, my_conv)\n",
    "\n",
    "\n",
    "def test_3():\n",
    "    batch_size, in_channels, height, width = 2, 3, 4, 4\n",
    "    out_channels = 2\n",
    "    kernel_size = 3\n",
    "\n",
    "    input_data = torch.randn(batch_size, in_channels, height, width)\n",
    "    weight_data = torch.randn(out_channels, in_channels, kernel_size, kernel_size)        \n",
    "    bias_data = torch.randn(out_channels)\n",
    "\n",
    "    conv = F.conv2d(input_data, weight_data, bias_data, stride=2, padding=0)\n",
    "    my_conv = myconv2d(input_data, weight_data, bias_data, stride=2, padding=0)\n",
    "    assert torch.allclose(conv, my_conv)\n",
    "\n",
    "def test_4():\n",
    "    batch_size, in_channels, height, width = 2, 3, 4, 4\n",
    "    out_channels = 2\n",
    "    kernel_size = 3\n",
    "    dilation = 2\n",
    "\n",
    "    input_data = torch.randn(batch_size, in_channels, height+dilation, width+dilation)\n",
    "    weight_data = torch.randn(out_channels, in_channels, kernel_size, kernel_size)        \n",
    "    bias_data = torch.randn(out_channels)\n",
    "\n",
    "    conv = F.conv2d(input_data, weight_data, bias_data, stride=1, padding=0, dilation=dilation)\n",
    "    my_conv = myconv2d(input_data, weight_data, bias_data, stride=1, padding=0, dilation=dilation)\n",
    "    assert torch.allclose(conv, my_conv)\n"
   ]
  }
 ],
 "metadata": {
  "kernelspec": {
   "display_name": "Python 3",
   "language": "python",
   "name": "python3"
  },
  "language_info": {
   "codemirror_mode": {
    "name": "ipython",
    "version": 3
   },
   "file_extension": ".py",
   "mimetype": "text/x-python",
   "name": "python",
   "nbconvert_exporter": "python",
   "pygments_lexer": "ipython3",
   "version": "3.10.7"
  }
 },
 "nbformat": 4,
 "nbformat_minor": 2
}
