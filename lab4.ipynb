{
 "cells": [
  {
   "cell_type": "markdown",
   "metadata": {},
   "source": [
    "# Лабораторная работа №4\n",
    "\n",
    "выполнила: Рыжкова Ульяна БВТ2001"
   ]
  },
  {
   "cell_type": "code",
   "execution_count": 1,
   "metadata": {},
   "outputs": [],
   "source": [
    "import numpy as np\n",
    "import torch\n",
    "import torch.nn.functional as F"
   ]
  },
  {
   "cell_type": "code",
   "execution_count": 16,
   "metadata": {},
   "outputs": [],
   "source": [
    "def my_upsample_bilinear(inputs, size):\n",
    "\n",
    "    N, C, H, W = inputs.shape\n",
    "\n",
    "    output_height, output_width = size\n",
    "    scale_factor_H = output_height / H\n",
    "    scale_factor_W = output_width / W\n",
    "\n",
    "\n",
    "    # Initialize the output tensor\n",
    "    output = torch.empty((N, C, output_height, output_width))\n",
    "\n",
    "    # Perform the upsampling bilinear operation\n",
    "    for b in range(N):\n",
    "        for c in range(C):\n",
    "            for oh in range(output_height):\n",
    "                for ow in range(output_width):\n",
    "                    in_i = oh / scale_factor_H\n",
    "                    in_j = ow / scale_factor_W\n",
    "\n",
    "                    # Perform bilinear interpolation\n",
    "                    x0 = int(np.floor(in_i))\n",
    "                    x1 = min(x0 + 1, H - 1)\n",
    "                    y0 = int(np.floor(in_j))\n",
    "                    y1 = min(y0 + 1, W - 1)\n",
    "\n",
    "                    # Interpolate the output value\n",
    "                    output[b, c, oh, ow] = (inputs[b, c, x0, y0] * (x1 - in_i) * (y1 - in_j) +\n",
    "                                             inputs[b, c, x0, y1] * (x1 - in_i) * (in_j - y0) +\n",
    "                                             inputs[b, c, x1, y0] * (in_i - x0) * (y1 - in_j) +\n",
    "                                             inputs[b, c, x1, y1] * (in_i - x0) * (in_j - y0))\n",
    "\n",
    "    return output\n",
    "\n",
    "\n",
    "input_data = torch.rand(1, 3, 4, 4)\n",
    "output_size = (1, 1)\n",
    "\n",
    "result = my_upsample_bilinear(input_data, size=output_size)"
   ]
  },
  {
   "cell_type": "code",
   "execution_count": 10,
   "metadata": {},
   "outputs": [],
   "source": [
    "import ipytest\n",
    "ipytest.autoconfig()"
   ]
  },
  {
   "cell_type": "code",
   "execution_count": 22,
   "metadata": {},
   "outputs": [
    {
     "name": "stdout",
     "output_type": "stream",
     "text": [
      "\u001b[32m.\u001b[0m\u001b[32m.\u001b[0m\u001b[33m                                                                                           [100%]\u001b[0m\n",
      "\u001b[33m======================================== warnings summary =========================================\u001b[0m\n",
      "t_4f4386580d40431e94168ff4ae921eb5.py::test_1\n",
      "t_4f4386580d40431e94168ff4ae921eb5.py::test_2\n",
      "  c:\\Users\\uta\\AppData\\Local\\Programs\\Python\\Python310\\lib\\site-packages\\torch\\nn\\functional.py:4140: UserWarning: nn.functional.upsample_bilinear is deprecated. Use nn.functional.interpolate instead.\n",
      "    warnings.warn(\"nn.functional.upsample_bilinear is deprecated. Use nn.functional.interpolate instead.\")\n",
      "\n",
      "-- Docs: https://docs.pytest.org/en/stable/how-to/capture-warnings.html\n",
      "\u001b[33m\u001b[32m2 passed\u001b[0m, \u001b[33m\u001b[1m2 warnings\u001b[0m\u001b[33m in 0.03s\u001b[0m\u001b[0m\n"
     ]
    }
   ],
   "source": [
    "%%ipytest\n",
    "\n",
    "\n",
    "def test_1():\n",
    "    input_data = torch.rand(1, 3, 4, 4)\n",
    "    output_size = (1, 1)       \n",
    "\n",
    "\n",
    "    up = F.upsample_bilinear(input_data, size=output_size)\n",
    "    my_up = my_upsample_bilinear(input_data, size=output_size)\n",
    "    assert torch.allclose(up, my_up)\n",
    "\n",
    "def test_2():\n",
    "    input_data = torch.rand(1, 3, 2, 2)\n",
    "    output_size = (1, 1)       \n",
    "\n",
    "\n",
    "    up = F.upsample_bilinear(input_data, size=output_size)\n",
    "    my_up = my_upsample_bilinear(input_data, size=output_size)\n",
    "    print(up)\n",
    "    print(my_up)\n",
    "    assert torch.allclose(up, my_up)\n"
   ]
  }
 ],
 "metadata": {
  "kernelspec": {
   "display_name": "Python 3",
   "language": "python",
   "name": "python3"
  },
  "language_info": {
   "codemirror_mode": {
    "name": "ipython",
    "version": 3
   },
   "file_extension": ".py",
   "mimetype": "text/x-python",
   "name": "python",
   "nbconvert_exporter": "python",
   "pygments_lexer": "ipython3",
   "version": "3.10.7"
  }
 },
 "nbformat": 4,
 "nbformat_minor": 2
}
